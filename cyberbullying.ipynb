{
 "cells": [
  {
   "cell_type": "code",
   "execution_count": 2,
   "id": "06a431b6",
   "metadata": {},
   "outputs": [],
   "source": [
    "import os\n",
    "import pandas as pd\n",
    "import numpy as ny\n",
    "import tensorflow as tf"
   ]
  },
  {
   "cell_type": "code",
   "execution_count": 3,
   "id": "7e730916",
   "metadata": {},
   "outputs": [],
   "source": [
    "df=pd.read_csv(os.path.join('DatasetForCommentsReading','kaggle_parsed_dataset.csv'))"
   ]
  },
  {
   "cell_type": "code",
   "execution_count": 4,
   "id": "8537040a",
   "metadata": {
    "scrolled": false
   },
   "outputs": [
    {
     "data": {
      "text/html": [
       "<div>\n",
       "<style scoped>\n",
       "    .dataframe tbody tr th:only-of-type {\n",
       "        vertical-align: middle;\n",
       "    }\n",
       "\n",
       "    .dataframe tbody tr th {\n",
       "        vertical-align: top;\n",
       "    }\n",
       "\n",
       "    .dataframe thead th {\n",
       "        text-align: right;\n",
       "    }\n",
       "</style>\n",
       "<table border=\"1\" class=\"dataframe\">\n",
       "  <thead>\n",
       "    <tr style=\"text-align: right;\">\n",
       "      <th></th>\n",
       "      <th>index</th>\n",
       "      <th>oh_label</th>\n",
       "      <th>Date</th>\n",
       "      <th>Text</th>\n",
       "    </tr>\n",
       "  </thead>\n",
       "  <tbody>\n",
       "    <tr>\n",
       "      <th>0</th>\n",
       "      <td>0</td>\n",
       "      <td>1</td>\n",
       "      <td>20120618192155Z</td>\n",
       "      <td>\"You fuck your dad.\"</td>\n",
       "    </tr>\n",
       "    <tr>\n",
       "      <th>1</th>\n",
       "      <td>1</td>\n",
       "      <td>0</td>\n",
       "      <td>20120528192215Z</td>\n",
       "      <td>\"i really don't understand your point.\\xa0 It ...</td>\n",
       "    </tr>\n",
       "    <tr>\n",
       "      <th>2</th>\n",
       "      <td>2</td>\n",
       "      <td>0</td>\n",
       "      <td>NaN</td>\n",
       "      <td>\"A\\\\xc2\\\\xa0majority of Canadians can and has ...</td>\n",
       "    </tr>\n",
       "    <tr>\n",
       "      <th>3</th>\n",
       "      <td>3</td>\n",
       "      <td>0</td>\n",
       "      <td>NaN</td>\n",
       "      <td>\"listen if you dont wanna get married to a man...</td>\n",
       "    </tr>\n",
       "    <tr>\n",
       "      <th>4</th>\n",
       "      <td>4</td>\n",
       "      <td>0</td>\n",
       "      <td>20120619094753Z</td>\n",
       "      <td>\"C\\xe1c b\\u1ea1n xu\\u1ed1ng \\u0111\\u01b0\\u1edd...</td>\n",
       "    </tr>\n",
       "    <tr>\n",
       "      <th>...</th>\n",
       "      <td>...</td>\n",
       "      <td>...</td>\n",
       "      <td>...</td>\n",
       "      <td>...</td>\n",
       "    </tr>\n",
       "    <tr>\n",
       "      <th>8794</th>\n",
       "      <td>8794</td>\n",
       "      <td>0</td>\n",
       "      <td>20120612003508Z</td>\n",
       "      <td>\"Never really gave it much thought. I just fig...</td>\n",
       "    </tr>\n",
       "    <tr>\n",
       "      <th>8795</th>\n",
       "      <td>8795</td>\n",
       "      <td>0</td>\n",
       "      <td>20120619210456Z</td>\n",
       "      <td>\"Nadie se salva de la regla 34 xd\"</td>\n",
       "    </tr>\n",
       "    <tr>\n",
       "      <th>8796</th>\n",
       "      <td>8796</td>\n",
       "      <td>0</td>\n",
       "      <td>20120528234613Z</td>\n",
       "      <td>\"Question: Are you a boy or a girl?\"</td>\n",
       "    </tr>\n",
       "    <tr>\n",
       "      <th>8797</th>\n",
       "      <td>8797</td>\n",
       "      <td>1</td>\n",
       "      <td>20120619153537Z</td>\n",
       "      <td>\"Leave your email or phone number and maybe yo...</td>\n",
       "    </tr>\n",
       "    <tr>\n",
       "      <th>8798</th>\n",
       "      <td>8798</td>\n",
       "      <td>0</td>\n",
       "      <td>20120620000237Z</td>\n",
       "      <td>\"From the scenarios you present, I see you bel...</td>\n",
       "    </tr>\n",
       "  </tbody>\n",
       "</table>\n",
       "<p>8799 rows × 4 columns</p>\n",
       "</div>"
      ],
      "text/plain": [
       "      index  oh_label             Date  \\\n",
       "0         0         1  20120618192155Z   \n",
       "1         1         0  20120528192215Z   \n",
       "2         2         0              NaN   \n",
       "3         3         0              NaN   \n",
       "4         4         0  20120619094753Z   \n",
       "...     ...       ...              ...   \n",
       "8794   8794         0  20120612003508Z   \n",
       "8795   8795         0  20120619210456Z   \n",
       "8796   8796         0  20120528234613Z   \n",
       "8797   8797         1  20120619153537Z   \n",
       "8798   8798         0  20120620000237Z   \n",
       "\n",
       "                                                   Text  \n",
       "0                                  \"You fuck your dad.\"  \n",
       "1     \"i really don't understand your point.\\xa0 It ...  \n",
       "2     \"A\\\\xc2\\\\xa0majority of Canadians can and has ...  \n",
       "3     \"listen if you dont wanna get married to a man...  \n",
       "4     \"C\\xe1c b\\u1ea1n xu\\u1ed1ng \\u0111\\u01b0\\u1edd...  \n",
       "...                                                 ...  \n",
       "8794  \"Never really gave it much thought. I just fig...  \n",
       "8795                 \"Nadie se salva de la regla 34 xd\"  \n",
       "8796               \"Question: Are you a boy or a girl?\"  \n",
       "8797  \"Leave your email or phone number and maybe yo...  \n",
       "8798  \"From the scenarios you present, I see you bel...  \n",
       "\n",
       "[8799 rows x 4 columns]"
      ]
     },
     "execution_count": 4,
     "metadata": {},
     "output_type": "execute_result"
    }
   ],
   "source": [
    "df"
   ]
  },
  {
   "cell_type": "code",
   "execution_count": 5,
   "id": "b8818bca",
   "metadata": {},
   "outputs": [],
   "source": [
    "#pre processing"
   ]
  },
  {
   "cell_type": "code",
   "execution_count": 6,
   "id": "677e44d1",
   "metadata": {},
   "outputs": [],
   "source": [
    "from tensorflow.keras.layers import TextVectorization"
   ]
  },
  {
   "cell_type": "code",
   "execution_count": 7,
   "id": "a8293cdf",
   "metadata": {},
   "outputs": [],
   "source": [
    "x=df['Text']\n",
    "y=df['oh_label'].values"
   ]
  },
  {
   "cell_type": "code",
   "execution_count": 12,
   "id": "d2adbc92",
   "metadata": {},
   "outputs": [
    {
     "data": {
      "text/plain": [
       "<tf.Tensor: shape=(8799, 1800), dtype=int64, numpy=\n",
       "array([[    3,    63,    12, ...,     0,     0,     0],\n",
       "       [   10,    84,    28, ...,     0,     0,     0],\n",
       "       [29005,     7,  4215, ...,     0,     0,     0],\n",
       "       ...,\n",
       "       [  473,     8,     3, ...,     0,     0,     0],\n",
       "       [  581,    12,  1216, ...,     0,     0,     0],\n",
       "       [   46,     2, 15574, ...,     0,     0,     0]], dtype=int64)>"
      ]
     },
     "execution_count": 12,
     "metadata": {},
     "output_type": "execute_result"
    }
   ],
   "source": [
    "vectorizer=TextVectorization(max_tokens=200000,output_sequence_length=1800,output_mode='int')\n",
    "vectorizer.adapt(x.values)\n",
    "vectorized_text=vectorizer(x.values)\n",
    "vectorized_text"
   ]
  },
  {
   "cell_type": "code",
   "execution_count": 14,
   "id": "58c4b72a",
   "metadata": {},
   "outputs": [],
   "source": [
    "dataset=tf.data.Dataset.from_tensor_slices((vectorized_text,y))\n",
    "dataset=dataset.cache()\n",
    "dataset=dataset.shuffle(9000)\n",
    "dataset=dataset.batch(16)\n",
    "dataset=dataset.prefetch(8)"
   ]
  },
  {
   "cell_type": "code",
   "execution_count": 19,
   "id": "2e1670aa",
   "metadata": {},
   "outputs": [],
   "source": [
    "train=dataset.take(int(len(dataset)*.7))\n",
    "val=dataset.skip(int(len(dataset)*.7)).take(int(len(dataset)*.2))\n",
    "test=dataset.skip(int(len(dataset)*.9)).take(int(len(dataset)*.1))"
   ]
  },
  {
   "cell_type": "code",
   "execution_count": null,
   "id": "93e35e73",
   "metadata": {},
   "outputs": [],
   "source": [
    "### CREATING MODEL"
   ]
  },
  {
   "cell_type": "code",
   "execution_count": 21,
   "id": "6375847d",
   "metadata": {},
   "outputs": [],
   "source": [
    "from tensorflow.keras.models import Sequential\n",
    "from tensorflow.keras.layers import LSTM, Dropout, Bidirectional, Dense, Embedding"
   ]
  },
  {
   "cell_type": "code",
   "execution_count": 24,
   "id": "c1e5af81",
   "metadata": {},
   "outputs": [],
   "source": [
    "model=Sequential()\n",
    "model.add(Embedding(200001,32))\n",
    "model.add(Bidirectional(LSTM(32,activation='tanh')))\n",
    "model.add(Dense(128,activation='relu'))\n",
    "model.add(Dense(256,activation='relu'))\n",
    "model.add(Dense(128,activation='relu'))\n",
    "model.add(Dense(1,activation='sigmoid'))"
   ]
  },
  {
   "cell_type": "code",
   "execution_count": 25,
   "id": "55f20f29",
   "metadata": {},
   "outputs": [],
   "source": [
    "model.compile(loss='BinaryCrossentropy',optimizer='Adam')"
   ]
  },
  {
   "cell_type": "code",
   "execution_count": 26,
   "id": "409e5530",
   "metadata": {},
   "outputs": [
    {
     "name": "stdout",
     "output_type": "stream",
     "text": [
      "Model: \"sequential\"\n",
      "_________________________________________________________________\n",
      " Layer (type)                Output Shape              Param #   \n",
      "=================================================================\n",
      " embedding (Embedding)       (None, None, 32)          6400032   \n",
      "                                                                 \n",
      " bidirectional (Bidirectiona  (None, 64)               16640     \n",
      " l)                                                              \n",
      "                                                                 \n",
      " dense (Dense)               (None, 128)               8320      \n",
      "                                                                 \n",
      " dense_1 (Dense)             (None, 256)               33024     \n",
      "                                                                 \n",
      " dense_2 (Dense)             (None, 128)               32896     \n",
      "                                                                 \n",
      " dense_3 (Dense)             (None, 1)                 129       \n",
      "                                                                 \n",
      "=================================================================\n",
      "Total params: 6,491,041\n",
      "Trainable params: 6,491,041\n",
      "Non-trainable params: 0\n",
      "_________________________________________________________________\n"
     ]
    }
   ],
   "source": [
    "model.summary()"
   ]
  },
  {
   "cell_type": "code",
   "execution_count": null,
   "id": "8ca0df34",
   "metadata": {},
   "outputs": [
    {
     "name": "stdout",
     "output_type": "stream",
     "text": [
      "Epoch 1/20\n",
      " 61/385 [===>..........................] - ETA: 4:25 - loss: 0.3570"
     ]
    }
   ],
   "source": [
    "training=model.fit(train,epochs=20,validation_data=val)"
   ]
  },
  {
   "cell_type": "code",
   "execution_count": 28,
   "id": "eb35d40c",
   "metadata": {},
   "outputs": [],
   "source": [
    "from matplotlib import pyplot as plt"
   ]
  },
  {
   "cell_type": "code",
   "execution_count": 31,
   "id": "636ea9b4",
   "metadata": {},
   "outputs": [
    {
     "data": {
      "text/plain": [
       "<Figure size 576x360 with 0 Axes>"
      ]
     },
     "metadata": {},
     "output_type": "display_data"
    },
    {
     "data": {
      "image/png": "[encoded data removed]",
      "text/plain": [
       "<Figure size 432x288 with 1 Axes>"
      ]
     },
     "metadata": {
      "needs_background": "light"
     },
     "output_type": "display_data"
    }
   ],
   "source": [
    "plt.figure(figsize=(8,5))\n",
    "pd.DataFrame(training.history).plot()\n",
    "plt.show()"
   ]
  },
  {
   "cell_type": "code",
   "execution_count": 32,
   "id": "397bc1c6",
   "metadata": {},
   "outputs": [],
   "source": [
    "### PREDICTION"
   ]
  },
  {
   "cell_type": "code",
   "execution_count": 48,
   "id": "3cab41db",
   "metadata": {},
   "outputs": [
    {
     "name": "stdout",
     "output_type": "stream",
     "text": [
      "1/1 [==============================] - 0s 120ms/step\n"
     ]
    },
    {
     "data": {
      "text/plain": [
       "array([[1],\n",
       "       [0],\n",
       "       [0],\n",
       "       [0],\n",
       "       [1],\n",
       "       [0],\n",
       "       [1],\n",
       "       [1],\n",
       "       [0],\n",
       "       [1],\n",
       "       [0],\n",
       "       [0],\n",
       "       [0],\n",
       "       [0],\n",
       "       [0],\n",
       "       [0]])"
      ]
     },
     "execution_count": 48,
     "metadata": {},
     "output_type": "execute_result"
    }
   ],
   "source": [
    "#test_input=vectorizer('you love!')\n",
    "batch=test.as_numpy_iterator().next()\n",
    "batch_x, batch_y =test.as_numpy_iterator().next()\n",
    "(model.predict(batch_x)>0.5).astype(int)"
   ]
  },
  {
   "cell_type": "code",
   "execution_count": 49,
   "id": "87f915fc",
   "metadata": {},
   "outputs": [
    {
     "data": {
      "text/plain": [
       "array([1, 0, 0, 0, 1, 1, 1, 1, 1, 1, 1, 0, 0, 0, 0, 0], dtype=int64)"
      ]
     },
     "execution_count": 49,
     "metadata": {},
     "output_type": "execute_result"
    }
   ],
   "source": [
    "batch_y"
   ]
  },
  {
   "cell_type": "code",
   "execution_count": null,
   "id": "8042bb58",
   "metadata": {},
   "outputs": [],
   "source": []
  }
 ],
 "metadata": {
  "kernelspec": {
   "display_name": "Python 3 (ipykernel)",
   "language": "python",
   "name": "python3"
  },
  "language_info": {
   "codemirror_mode": {
    "name": "ipython",
    "version": 3
   },
   "file_extension": ".py",
   "mimetype": "text/x-python",
   "name": "python",
   "nbconvert_exporter": "python",
   "pygments_lexer": "ipython3",
   "version": "3.9.7"
  }
 },
 "nbformat": 4,
 "nbformat_minor": 5
}
